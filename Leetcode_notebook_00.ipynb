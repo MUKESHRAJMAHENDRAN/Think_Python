{
 "cells": [
  {
   "cell_type": "markdown",
   "id": "3ff673fc-6e18-4b5d-99a5-7871e60a8b61",
   "metadata": {},
   "source": [
    "### Two sum\n",
    "Input: nums = [2,7,11,15], target = 9\n",
    "Output: [0,1]\n",
    "Explanation: Because nums[0] + nums[1] == 9, we return [0, 1].\n",
    "\n",
    "Input: nums = [3,2,4], target = 6\n",
    "Output: [1,2]"
   ]
  },
  {
   "cell_type": "code",
   "execution_count": null,
   "id": "17db9740-489f-434c-ae02-30a26801f5ee",
   "metadata": {},
   "outputs": [],
   "source": [
    "def two_sum(nums: list[int], target: int) ->list[int]:\n",
    "    look_up = {} # Store the already visited variable\n",
    "    for index, current_value in enumerate(nums):\n",
    "        # current_value + x = target\n",
    "        x = target - current_value\n",
    "        if x in look_up:\n",
    "            return [look_up[x], index]\n",
    "        look_up[current_value] = index\n",
    "    return [-1, -1]"
   ]
  },
  {
   "cell_type": "code",
   "execution_count": null,
   "id": "5755eaff-db6e-4f2c-bd9d-2f29ffc73bc6",
   "metadata": {},
   "outputs": [
    {
     "data": {
      "text/plain": [
       "[0, 2]"
      ]
     },
     "execution_count": null,
     "metadata": {},
     "output_type": "execute_result"
    }
   ],
   "source": [
    "nums = [2, 7, 11, 15]; target= 13\n",
    "two_sum(nums, target)"
   ]
  },
  {
   "cell_type": "markdown",
   "id": "76ca9b84-9f08-48e4-a742-0557864d0316",
   "metadata": {},
   "source": [
    "***Note***:\n",
    "You will understand the code if you are not track the code yourself or check with notes"
   ]
  }
 ],
 "metadata": {
  "kernelspec": {
   "display_name": "python3",
   "language": "python",
   "name": "python3"
  }
 },
 "nbformat": 4,
 "nbformat_minor": 5
}
